{
 "cells": [
  {
   "cell_type": "markdown",
   "metadata": {},
   "source": [
    "Here shows a simple example to use the code. The code was tested in Ubuntu 16.04. \n",
    "**/home/hdf/Downloads/chest_x_ray/** file stors the input dicom files. We would like to output the marked image to folder **/home/hdf/Chest_output/** and xlsx file to **/home/hdf/Chest_output.xlsx**."
   ]
  },
  {
   "cell_type": "code",
   "execution_count": 1,
   "metadata": {},
   "outputs": [
    {
     "name": "stderr",
     "output_type": "stream",
     "text": [
      "Using TensorFlow backend.\n"
     ]
    }
   ],
   "source": [
    "from code.SpineCenter import multi_spine_center_detect"
   ]
  },
  {
   "cell_type": "markdown",
   "metadata": {},
   "source": [
    "Note change line **72** of _SpineCenter.py_ in code folder if you current directory is not in code folder."
   ]
  },
  {
   "cell_type": "code",
   "execution_count": null,
   "metadata": {},
   "outputs": [],
   "source": [
    "multi_spine_center_detect('/home/hdf/Downloads/chest_x_ray/', '/home/hdf/Chest_output/', '/home/hdf/Chest_output.xlsx')"
   ]
  }
 ],
 "metadata": {
  "kernelspec": {
   "display_name": "Python 2",
   "language": "python",
   "name": "python2"
  },
  "language_info": {
   "codemirror_mode": {
    "name": "ipython",
    "version": 2
   },
   "file_extension": ".py",
   "mimetype": "text/x-python",
   "name": "python",
   "nbconvert_exporter": "python",
   "pygments_lexer": "ipython2",
   "version": "2.7.12"
  }
 },
 "nbformat": 4,
 "nbformat_minor": 2
}
